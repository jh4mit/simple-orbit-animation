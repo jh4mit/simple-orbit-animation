{
 "cells": [
  {
   "cell_type": "code",
   "execution_count": 2,
   "metadata": {},
   "outputs": [
    {
     "data": {
      "text/plain": [
       "<matplotlib.animation.FuncAnimation at 0x7e3cbcbe0230>"
      ]
     },
     "execution_count": 2,
     "metadata": {},
     "output_type": "execute_result"
    }
   ],
   "source": [
    "import matplotlib.pyplot as plt\n",
    "import numpy as np\n",
    "import matplotlib.animation as animation\n",
    "\n",
    "# Constants\n",
    "G = 6.67430e-11  # Gravitational constant (m^3 kg^-1 s^-2)\n",
    "M = 5.972e24  # Mass of Earth (kg)\n",
    "R_earth = 6371e3  # Radius of Earth (m)\n",
    "altitude = 100e3  # Altitude of the craft above Earth (m)\n",
    "initial_distance = R_earth + altitude  # Initial distance from Earth's center (m)\n",
    "\n",
    "# Velocity range: from 0 to slightly above escape velocity\n",
    "escape_velocity = np.sqrt(2 * G * M / initial_distance)\n",
    "velocities = np.linspace(0, 1.2 * escape_velocity, 300)\n",
    "\n",
    "# Setting up the figure and axis\n",
    "fig, ax = plt.subplots(figsize=(8, 8))\n",
    "ax.set_xlim(-3 * R_earth, 3 * R_earth)\n",
    "ax.set_ylim(-3 * R_earth, 3 * R_earth)\n",
    "ax.set_aspect('equal')\n",
    "ax.set_title('Projected Orbit as Velocity Increases')\n",
    "ax.set_xlabel('X Position (km)')\n",
    "ax.set_ylabel('Y Position (km)')\n",
    "\n",
    "# Plot Earth\n",
    "earth = plt.Circle((0, 0), R_earth, color='blue', alpha=0.5)\n",
    "ax.add_artist(earth)\n",
    "\n",
    "# Placeholder for the orbit line\n",
    "orbit_line, = ax.plot([], [], lw=2, color='orange')\n",
    "\n",
    "def calculate_orbit(v):\n",
    "    \"\"\"Calculate the orbit path given the velocity v.\"\"\"\n",
    "    specific_energy = v**2 / 2 - G * M / initial_distance\n",
    "    eccentricity = np.sqrt(1 + (2 * specific_energy * initial_distance**2) / (G * M)**2)\n",
    "\n",
    "    if eccentricity < 1:  # Elliptical orbit\n",
    "        theta = np.linspace(0, 2 * np.pi, 1000)\n",
    "        semi_major_axis = -G * M / (2 * specific_energy)\n",
    "        r = semi_major_axis * (1 - eccentricity**2) / (1 + eccentricity * np.cos(theta))\n",
    "    else:  # Parabolic or Hyperbolic\n",
    "        theta = np.linspace(-np.pi / 2, np.pi / 2, 1000)\n",
    "        r = initial_distance / (1 - eccentricity * np.cos(theta))\n",
    "\n",
    "    # Convert polar to cartesian\n",
    "    x = r * np.cos(theta)\n",
    "    y = r * np.sin(theta)\n",
    "    return x, y\n",
    "\n",
    "def update(frame):\n",
    "    \"\"\"Update the orbit line based on the current velocity.\"\"\"\n",
    "    v = velocities[frame]\n",
    "    x, y = calculate_orbit(v)\n",
    "    orbit_line.set_data(x / 1000, y / 1000)  # Convert to km for plotting\n",
    "    return orbit_line,\n",
    "\n",
    "# Create the animation\n",
    "ani = animation.FuncAnimation(fig, update, frames=len(velocities), blit=True)\n",
    "\n",
    "# Display the animation\n",
    "plt.close(fig)  # Close the static plot display\n",
    "ani\n"
   ]
  },
  {
   "cell_type": "code",
   "execution_count": null,
   "metadata": {},
   "outputs": [],
   "source": []
  }
 ],
 "metadata": {
  "kernelspec": {
   "display_name": ".venv",
   "language": "python",
   "name": "python3"
  },
  "language_info": {
   "codemirror_mode": {
    "name": "ipython",
    "version": 3
   },
   "file_extension": ".py",
   "mimetype": "text/x-python",
   "name": "python",
   "nbconvert_exporter": "python",
   "pygments_lexer": "ipython3",
   "version": "3.12.5"
  }
 },
 "nbformat": 4,
 "nbformat_minor": 2
}
